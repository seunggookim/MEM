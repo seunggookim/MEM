{
  "nbformat": 4,
  "nbformat_minor": 0,
  "metadata": {
    "colab": {
      "provenance": []
    },
    "kernelspec": {
      "name": "python3",
      "display_name": "Python 3"
    },
    "language_info": {
      "name": "python"
    }
  },
  "cells": [
    {
      "cell_type": "markdown",
      "source": [
        "# DEMO\n",
        "✅ Plot distributions of samples\n",
        "\n",
        "✅ Compare means of two (three) groups\n"
      ],
      "metadata": {
        "id": "5-RIp3gWA047"
      }
    },
    {
      "cell_type": "code",
      "execution_count": null,
      "metadata": {
        "id": "hBGdzJPeNiky"
      },
      "outputs": [],
      "source": [
        "import urllib.request\n",
        "urllib.request.urlretrieve(\n",
        "    \"https://raw.github.com/seunggookim/MEM1/main/fisheriris.csv\", \"fisheriris.csv\")\n",
        "!ls"
      ]
    },
    {
      "cell_type": "code",
      "source": [
        "import pandas, matplotlib, seaborn, scipy, numpy, statsmodels"
      ],
      "metadata": {
        "id": "NID_fhBEN002"
      },
      "execution_count": null,
      "outputs": []
    },
    {
      "cell_type": "code",
      "source": [
        "Data = pandas.read_csv('fisheriris.csv')\n",
        "Data.head()"
      ],
      "metadata": {
        "id": "IunQpGsM1-iF"
      },
      "execution_count": null,
      "outputs": []
    },
    {
      "cell_type": "code",
      "source": [
        "seaborn.violinplot(data=Data, x='Species', y='SepLen', cut=False)"
      ],
      "metadata": {
        "id": "SqI82MSC2gDu"
      },
      "execution_count": null,
      "outputs": []
    },
    {
      "cell_type": "markdown",
      "source": [
        "t-test"
      ],
      "metadata": {
        "id": "xZnRBVhDw6qY"
      }
    },
    {
      "cell_type": "code",
      "source": [
        "T,P,Df = statsmodels.api.stats.ttest_ind(\n",
        "    Data['SepLen'][Data['Species']=='setosa'],\n",
        "    Data['SepLen'][Data['Species']=='virginica'], \n",
        "    usevar='unequal')\n",
        "print('t[%i]=%.4f, P=%.3g' % (Df,T,P))"
      ],
      "metadata": {
        "id": "SuIY7Fqy4w9Q"
      },
      "execution_count": null,
      "outputs": []
    },
    {
      "cell_type": "markdown",
      "source": [
        "One-way (3-level) ANOVA"
      ],
      "metadata": {
        "id": "E3YYIl7Pw9ya"
      }
    },
    {
      "cell_type": "code",
      "source": [
        "# Fit a linear model (ordinary least square):\n",
        "# formula: [DV] ~ C([Categorical-IV]) + Numerical-IV ...\n",
        "Mdl = statsmodels.formula.api.ols('SepLen ~ C(Species)', data=Data).fit()\n",
        "print(Mdl.summary())"
      ],
      "metadata": {
        "id": "NeYaCue81gMO"
      },
      "execution_count": null,
      "outputs": []
    },
    {
      "cell_type": "code",
      "source": [
        "# Compute ANOVA table:\n",
        "Tbl = statsmodels.stats.api.anova_lm(Mdl)\n",
        "print(Tbl)"
      ],
      "metadata": {
        "id": "g3eH2-LG2KG5"
      },
      "execution_count": null,
      "outputs": []
    }
  ]
}